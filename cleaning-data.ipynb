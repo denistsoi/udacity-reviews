{
 "cells": [
  {
   "cell_type": "markdown",
   "metadata": {},
   "source": [
    "## Goals:\n",
    "\n",
    "Looking at the udacity catalogue, \n",
    "I want to be able to view how nanodegrees are rated.\n",
    "\n",
    "\n",
    "### Tasks\n",
    "- Retrieve the catalogue data from the udacity api\n",
    "- Store data locally so we can analyse it later\n",
    "- Retrieve ratings data from ratings api\n",
    "- Store data locally so we can analyse it later\n",
    "- Merge catalogue and ratings data under processed.json\n"
   ]
  },
  {
   "cell_type": "markdown",
   "metadata": {},
   "source": [
    "### import dependencies"
   ]
  },
  {
   "cell_type": "code",
   "execution_count": null,
   "metadata": {},
   "outputs": [],
   "source": [
    "import requests\n",
    "import json"
   ]
  },
  {
   "cell_type": "markdown",
   "metadata": {},
   "source": [
    "#### Task:\n",
    "\n",
    "We will fetch from the catalogue api to get the list of all courses.\n",
    "Then we will save this data under `raw_data.json`."
   ]
  },
  {
   "cell_type": "code",
   "execution_count": null,
   "metadata": {},
   "outputs": [],
   "source": [
    "source = \"https://catalog-api.udacity.com/v1/catalog?locale=en-us\"\n",
    "\n",
    "r = requests.get(source)\n",
    "print(\"fetching catalogue data\")\n",
    "\n",
    "data = r.json()\n",
    "\n",
    "with open(\"./data/raw_data.json\", \"w\") as text_file:\n",
    "    text_file.write(json.dumps(data, indent=2))\n",
    "    print(\"done writing data\")"
   ]
  },
  {
   "cell_type": "markdown",
   "metadata": {},
   "source": [
    "### Task\n",
    "\n",
    "Use raw_data and clean the data as there are empty values and we want to clear degrees that have no \"level\" or \"title\""
   ]
  },
  {
   "cell_type": "code",
   "execution_count": null,
   "metadata": {},
   "outputs": [],
   "source": [
    "with open(\"./data/raw_data.json\") as data_file:\n",
    "    json_data = json.load(data_file)\n",
    "    \n",
    "    \n",
    "    degrees = [{\n",
    "        \"affiliates\": degree.get(\"affiliates\", \"\"),\n",
    "        \"key\": degree.get(\"key\", \"\"),\n",
    "        \"title\": degree.get(\"title\", \"\"),\n",
    "        \"level\": degree.get(\"level\", \"\"),\n",
    "        \"num_of_projects\": len(degree.get(\"projects\")) if degree.get(\"projects\") else 0,\n",
    "        \"tags\": degree.get(\"tags\"),\n",
    "        } for degree in json_data[\"degrees\"] if degree[\"level\"] != \"\" and degree[\"title\"] != \"\"\n",
    "    ]\n",
    "\n",
    "    with open(\"./data/degrees.json\", \"w\") as data_file:\n",
    "        data_file.write(json.dumps(degrees))"
   ]
  },
  {
   "cell_type": "markdown",
   "metadata": {},
   "source": [
    "### Task\n",
    "We want to ba able to view the ratings api to determine what it provides."
   ]
  },
  {
   "cell_type": "code",
   "execution_count": null,
   "metadata": {},
   "outputs": [],
   "source": [
    "def fetch_reviews_for_key(key):\n",
    "    source = f\"https://ratings-api.udacity.com/api/v1/reviews?node={key}&limit=5000&page=1\"\n",
    "    r = requests.get(source)\n",
    "    return r.json()"
   ]
  },
  {
   "cell_type": "markdown",
   "metadata": {},
   "source": [
    "`fetch_reviews_for_key(nd0044)`\n",
    "\n",
    "Response data\n",
    "```\n",
    "{\n",
    "  \"average_rating\": 4.536585365853658,\n",
    "  \"count\": 164,\n",
    "  \"stats\": [\n",
    "    {\n",
    "      \"rating\": 5,\n",
    "      \"count\": 109,\n",
    "      \"percentage\": 66.46341463414635,\n",
    "      \"_id\": 5\n",
    "    },\n",
    "    {\n",
    "      \"rating\": 4,\n",
    "      \"count\": 43,\n",
    "      \"percentage\": 26.21951219512195,\n",
    "      \"_id\": 4\n",
    "    },\n",
    "    {\n",
    "      \"rating\": 3,\n",
    "      \"count\": 7,\n",
    "      \"percentage\": 4.2682926829268295,\n",
    "      \"_id\": 3\n",
    "    },\n",
    "    {\n",
    "      \"rating\": 2,\n",
    "      \"count\": 1,\n",
    "      \"percentage\": 0.6097560975609756,\n",
    "      \"_id\": 2\n",
    "    },\n",
    "    {\n",
    "      \"rating\": 1,\n",
    "      \"count\": 4,\n",
    "      \"percentage\": 2.4390243902439024,\n",
    "      \"_id\": 1\n",
    "    }\n",
    "  ]\n",
    "}\n",
    "```"
   ]
  },
  {
   "cell_type": "markdown",
   "metadata": {},
   "source": [
    "### Task\n",
    "\n",
    "From `degrees.json` we want to append the rating to `processed.json` which will have the api data from ratings."
   ]
  },
  {
   "cell_type": "code",
   "execution_count": null,
   "metadata": {},
   "outputs": [],
   "source": [
    "with open(\"./data/degrees.json\", \"r\") as data_file:\n",
    "    degrees = json.load(data_file)\n",
    "    \n",
    "    print(\"start fetching reviews\")\n",
    "\n",
    "    output_data = []\n",
    "    for degree in degrees:\n",
    "        key = degree.get(\"key\")\n",
    "        data = fetch_reviews_for_key(key)\n",
    "        \n",
    "        print(\"key: \" + key)\n",
    "        \n",
    "        ratings = {\n",
    "          \"average_rating\": data[\"nd_avg_rating\"],\n",
    "          \"count\": data[\"count\"],\n",
    "          \"stats\": data[\"stats\"]  \n",
    "        }\n",
    "\n",
    "        sample = {\n",
    "          **degree,\n",
    "          **ratings\n",
    "        }\n",
    "\n",
    "        output_data.append(sample)\n",
    "    \n",
    "    print(\"processed job\")\n",
    "    with open(\"./data/processed.json\", \"w+\") as output:\n",
    "        output.write(json.dumps(output_data, indent=2))\n",
    "        print(\"job has been finished\")"
   ]
  },
  {
   "cell_type": "markdown",
   "metadata": {},
   "source": [
    "### todo\n",
    "Clean level value to lowercase - \n",
    "- `sorted_df.loc[sorted_df[\"level\"].str.contains(\"Advanced\"), \"level\"] = \"advanced\"`\n",
    "- `sorted_df.loc[sorted_df[\"level\"].str.contains(\"Intermediate\"), \"level\"] = \"intermediate\"`\n",
    "- `sorted_df.loc[sorted_df[\"level\"].str.contains(\"Beginner\"), \"level\"] = \"beginner\"`"
   ]
  },
  {
   "cell_type": "code",
   "execution_count": null,
   "metadata": {},
   "outputs": [],
   "source": []
  }
 ],
 "metadata": {
  "kernelspec": {
   "display_name": "Python 3",
   "language": "python",
   "name": "python3"
  },
  "language_info": {
   "codemirror_mode": {
    "name": "ipython",
    "version": 3
   },
   "file_extension": ".py",
   "mimetype": "text/x-python",
   "name": "python",
   "nbconvert_exporter": "python",
   "pygments_lexer": "ipython3",
   "version": "3.7.4"
  }
 },
 "nbformat": 4,
 "nbformat_minor": 2
}
