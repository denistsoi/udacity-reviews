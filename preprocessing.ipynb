{
 "nbformat": 4,
 "nbformat_minor": 2,
 "metadata": {
  "language_info": {
   "name": "python",
   "codemirror_mode": {
    "name": "ipython",
    "version": 3
   },
   "version": "3.7.4-final"
  },
  "orig_nbformat": 2,
  "file_extension": ".py",
  "mimetype": "text/x-python",
  "name": "python",
  "npconvert_exporter": "python",
  "pygments_lexer": "ipython3",
  "version": 3,
  "kernelspec": {
   "name": "python37464bitbaseconda7948cedf77ad47329a4ad168de0b107d",
   "display_name": "Python 3.7.4 64-bit ('base': conda)"
  }
 },
 "cells": [
  {
   "cell_type": "code",
   "execution_count": null,
   "metadata": {
    "tags": [
     "outputPrepend"
    ]
   },
   "outputs": [],
   "source": [
    "# get catalogue\n",
    "import requests\n",
    "import json\n",
    "source = \"https://catalog-api.udacity.com/v1/catalog?locale=en-us\"\n",
    "\n",
    "r = requests.get(source)\n",
    "print(\"fetching catalogue data\")\n",
    "\n",
    "data = r.json()\n",
    "\n",
    "with open(\"./data/raw_data.json\", \"w\") as text_file:\n",
    "    text_file.write(json.dumps(data, indent=2))\n",
    "    print(\"done writing data\")"
   ]
  },
  {
   "cell_type": "code",
   "execution_count": null,
   "metadata": {},
   "outputs": [],
   "source": [
    "import json\n",
    "import requests\n",
    "# ---\n",
    "# Utilities\n",
    "# ---\n",
    "\n",
    "def filter_by_level(data, level):\n",
    "    return [course for course in data if course[\"level\"] == level]\n",
    "\n",
    "def write_to_file(data, path_name):\n",
    "    with open(f\"{path_name}\", \"w+\") as data_file:\n",
    "        data_file.write(json.dumps(data, indent=2))\n",
    "        print(f\"done writing to {path_name}\")\n",
    "\n",
    "def fetch_reviews_for_key(key):\n",
    "    source = f\"https://ratings-api.udacity.com/api/v1/reviews?node={key}&limit=5000&page=1\"\n",
    "    r = requests.get(source)\n",
    "    return r.json()\n",
    ""
   ]
  },
  {
   "cell_type": "code",
   "execution_count": null,
   "metadata": {
    "tags": [
     "outputPrepend"
    ]
   },
   "outputs": [],
   "source": [
    "\n",
    "# course jobs\n",
    "with open(\"./data/raw_data.json\") as data_file:\n",
    "    data = json.load(data_file)\n",
    "    \n",
    "    courses = data[\"courses\"]\n",
    "\n",
    "    # separate beginner, intermediate and advanced courses\n",
    "    beginner_courses = filter_by_level(courses, \"beginner\")\n",
    "    intermediate_courses = filter_by_level(courses, \"intermediate\")\n",
    "    advanced_courses = filter_by_level(courses, \"advanced\")\n",
    "\n",
    "    other = [\n",
    "        course[\"key\"] for course in data[\"courses\"] \n",
    "            if course[\"level\"] != \"beginner\" and \n",
    "               course[\"level\"] != \"intermediate\" and \n",
    "               course[\"level\"] != \"advanced\"\n",
    "    ]\n",
    "\n",
    "    print(\"Start Write course jobs\")\n",
    "\n",
    "    write_to_file(beginner_courses, \"./data/courses/level/beginner.json\")\n",
    "    write_to_file(intermediate_courses, \"./data/courses/level/intermediate.json\")\n",
    "    write_to_file(advanced_courses, \"./data/courses/level/advanced.json\")\n",
    "\n",
    "    print(\"Finished Write course jobs\")\n",
    ""
   ]
  },
  {
   "cell_type": "code",
   "execution_count": null,
   "metadata": {},
   "outputs": [],
   "source": [
    "# degree jobs\n",
    "with open(\"./data/raw_data.json\") as data_file:\n",
    "    data = json.load(data_file)\n",
    "    \n",
    "    degrees = data[\"degrees\"]\n",
    "\n",
    "    beginner_degrees = filter_by_level(degrees, \"beginner\")\n",
    "    intermediate_degrees = filter_by_level(degrees, \"intermediate\")\n",
    "    advanced_degrees = filter_by_level(degrees, \"advanced\")\n",
    "    \n",
    "    print(\"Start Write degree jobs\")\n",
    "\n",
    "    write_to_file(beginner_degrees, \"./data/degrees/level/beginner.json\")\n",
    "    write_to_file(intermediate_degrees, \"./data/degrees/level/intermediate.json\")\n",
    "    write_to_file(advanced_degrees, \"./data/degrees/level/advanced.json\")\n",
    "    \n",
    "    print(\"Finished Write degree jobs\")"
   ]
  },
  {
   "cell_type": "code",
   "execution_count": null,
   "metadata": {
    "tags": [
     "outputPrepend"
    ]
   },
   "outputs": [],
   "source": [
    "# massage data\n",
    "data = fetch_reviews_for_key(\"nd0044\")\n",
    "\n",
    "reviews = {\n",
    "  \"average_rating\": data[\"nd_avg_rating\"],\n",
    "  \"count\": data[\"count\"],\n",
    "  \"stats\": data[\"stats\"]\n",
    "}\n",
    "\n",
    "print(json.dumps(reviews, indent=2))"
   ]
  },
  {
   "cell_type": "code",
   "execution_count": null,
   "metadata": {
    "tags": [
     "outputPrepend"
    ]
   },
   "outputs": [],
   "source": [
    "# TODO: \n",
    "# - list out all nano-degrees and courses with names and levels\n",
    "# - extract all tags\n",
    "# - number of projects? (does projects correlate with higher rating?)\n",
    "\n",
    "# ---\n",
    "# cleaning data\n",
    "# ---\n",
    "import json\n",
    "\n",
    "with open(\"./data/raw_data.json\") as data_file:\n",
    "    json_data = json.load(data_file)\n",
    "    \n",
    "    degrees = [{\n",
    "        \"affiliates\": degree.get(\"affiliates\", \"\"),\n",
    "        \"key\": degree.get(\"key\", \"\"),\n",
    "        \"title\": degree.get(\"title\", \"\"),\n",
    "        \"level\": degree.get(\"level\", \"\"),\n",
    "        \"num_of_projects\": len(degree.get(\"projects\")) if degree.get(\"projects\") else 0,\n",
    "        \"tags\": degree.get(\"tags\"),\n",
    "        } for degree in json_data[\"degrees\"] if degree[\"level\"] != \"\" and degree[\"title\"] != \"\"\n",
    "    ]\n",
    "\n",
    "    with open(\"./data/degrees.json\", \"w\") as data_file:\n",
    "        data_file.write(json.dumps(degrees))"
   ]
  },
  {
   "cell_type": "code",
   "execution_count": 3,
   "metadata": {
    "tags": [
     "outputPrepend"
    ]
   },
   "outputs": [
    {
     "output_type": "stream",
     "name": "stdout",
     "text": "start fetching reviews\njob has been finished\n"
    }
   ],
   "source": [
    "import json\n",
    "import requests\n",
    "\n",
    "def fetch_reviews_for_key(key):\n",
    "    source = f\"https://ratings-api.udacity.com/api/v1/reviews?node={key}&limit=5000&page=1\"\n",
    "    r = requests.get(source)\n",
    "    return r.json()\n",
    "\n",
    "with open(\"./data/degrees.json\", \"r\") as data_file:\n",
    "    degrees = json.load(data_file)\n",
    "    \n",
    "    print(\"start fetching reviews\")\n",
    "\n",
    "    for degree in degrees:\n",
    "        key = degree.get(\"key\")\n",
    "        data = fetch_reviews_for_key(key)\n",
    "        \n",
    "        degree_data = degree\n",
    "        degree = {\n",
    "            **degree_data,\n",
    "            \"average_rating\": data[\"nd_avg_rating\"],\n",
    "            \"count\": data[\"count\"],\n",
    "            \"stats\": data[\"stats\"]\n",
    "            }\n",
    "    \n",
    "    with o\"process job\"pen(\"processed.json\", \"w\") as output:\n",
    "        output.write(json.dumps(degrees, indent=2))\n",
    "        print(\"job has been finished\")\n",
    "    "
   ]
  },
  {
   "cell_type": "code",
   "execution_count": null,
   "metadata": {},
   "outputs": [],
   "source": [
    "# convert processed.json to dataframe\n",
    "\n",
    "import pandas as pd\n",
    "\n",
    "df = pd.read_json(\"procesed.json\")"
   ]
  }
 ]
}